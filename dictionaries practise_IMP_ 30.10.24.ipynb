{
 "cells": [
  {
   "cell_type": "markdown",
   "id": "2c86bc74",
   "metadata": {},
   "source": [
    "## dictionaries practice"
   ]
  },
  {
   "cell_type": "raw",
   "id": "ec3f4b97",
   "metadata": {},
   "source": [
    "# Sequence of key : and value , {}\n",
    "# Syntax: Dictname= { key:value, key1:value1}\n",
    "#1. Key can't be changed in dictionary\n",
    "#2. But value of key can be changed\n",
    "#3. Key can be an integor or string or float\n",
    "#4. Key can't be duplicate but value can be duplicate\n",
    "#5. dictonary is unordered - no ordered\n",
    "#6. No indexing and no slicing\n",
    "#7. with the Key, we can access value\n",
    "\n",
    "# note both sets and dictionaries are unordered and no indexing and slicing."
   ]
  },
  {
   "cell_type": "code",
   "execution_count": 1,
   "id": "3c5db007",
   "metadata": {},
   "outputs": [
    {
     "name": "stdout",
     "output_type": "stream",
     "text": [
      "<class 'dict'>\n"
     ]
    }
   ],
   "source": [
    "dict1 = {}\n",
    "print(type(dict1))"
   ]
  },
  {
   "cell_type": "code",
   "execution_count": 2,
   "id": "7010210d",
   "metadata": {},
   "outputs": [
    {
     "name": "stdout",
     "output_type": "stream",
     "text": [
      "{'name': 'lakshmi', 'age': 55}\n"
     ]
    }
   ],
   "source": [
    "# 3 types you can write the dictionary\n",
    "dic12 = {'name': 'lakshmi', 'age':55}\n",
    "print(dic12)"
   ]
  },
  {
   "cell_type": "code",
   "execution_count": 3,
   "id": "57c666a0",
   "metadata": {},
   "outputs": [
    {
     "name": "stdout",
     "output_type": "stream",
     "text": [
      "{'name': 'laskhmi', 'age': 55}\n"
     ]
    }
   ],
   "source": [
    "dict13 = {}\n",
    "dict13['name'] = 'laskhmi'\n",
    "dict13['age'] = 55\n",
    "print(dict13)"
   ]
  },
  {
   "cell_type": "code",
   "execution_count": 4,
   "id": "8c879f95",
   "metadata": {},
   "outputs": [
    {
     "name": "stdout",
     "output_type": "stream",
     "text": [
      "[['name', 'lakshmi'], ['age', '55']]\n"
     ]
    }
   ],
   "source": [
    "dict13 =([['name','lakshmi'], ['age', '55']])\n",
    "print(dict13)        "
   ]
  },
  {
   "cell_type": "code",
   "execution_count": null,
   "id": "3b0cf2e1",
   "metadata": {},
   "outputs": [],
   "source": [
    "# key can be an integer, float and string"
   ]
  },
  {
   "cell_type": "code",
   "execution_count": 5,
   "id": "01eba5f5",
   "metadata": {},
   "outputs": [
    {
     "name": "stdout",
     "output_type": "stream",
     "text": [
      "{1510: 'dhana lakshmi', 1511: 'sriveni', 1512: 'geetha srividhya'}\n"
     ]
    }
   ],
   "source": [
    "pot= {1510:'dhana lakshmi', 1511:'sriveni', 1512:'geetha srividhya'}\n",
    "print (pot)"
   ]
  },
  {
   "cell_type": "code",
   "execution_count": 6,
   "id": "26597d7f",
   "metadata": {},
   "outputs": [
    {
     "name": "stdout",
     "output_type": "stream",
     "text": [
      "{'A': 100, 'B': 200, 'C': 300}\n",
      "dict_values([100, 200, 300])\n",
      "dict_keys(['A', 'B', 'C'])\n",
      "dict_items([('A', 100), ('B', 200), ('C', 300)])\n"
     ]
    }
   ],
   "source": [
    "pot2={'A': 100,'B': 200,'C':300} # keys as strings and values are like integors\n",
    "print (pot2)\n",
    "print(pot2.values()) # values will be printed\n",
    "print(pot2.keys()) #keys will be printed\n",
    "print(pot2.items())  #keys and values will be printed."
   ]
  },
  {
   "cell_type": "code",
   "execution_count": 7,
   "id": "9946db16",
   "metadata": {
    "scrolled": true
   },
   "outputs": [
    {
     "name": "stdout",
     "output_type": "stream",
     "text": [
      "{1101: 'harsha', 1102: 'harsha', 1105: 'Mohan', 1103: 'Mohan', 1104: 'Mohan'}\n"
     ]
    }
   ],
   "source": [
    "pot4={1101:'harsha', 1102:'harsha', 1105: 'Mohan', 1103:'Mohan',1104:'Mohan'}\n",
    "print (pot4) #Key duplicate will not accept, but value can be duplicate"
   ]
  },
  {
   "cell_type": "code",
   "execution_count": 8,
   "id": "47998ed9",
   "metadata": {},
   "outputs": [
    {
     "name": "stdout",
     "output_type": "stream",
     "text": [
      "{'name': ['Abhi', 'Akshaya', 'Mohamed', 'Ramya'], 'age': (22, 23, 24, 26), 'height': (166.4, 180.2, 177.1, 156.4)}\n"
     ]
    }
   ],
   "source": [
    "pot5={'name':['Abhi', 'Akshaya', 'Mohamed', 'Ramya'], 'age':(22, 23, 24, 26), 'height': (166.4, 180.2,177.1,156.4)}\n",
    "print(pot5)"
   ]
  },
  {
   "cell_type": "code",
   "execution_count": 9,
   "id": "72ef0bb4",
   "metadata": {},
   "outputs": [
    {
     "name": "stdout",
     "output_type": "stream",
     "text": [
      "['__class__', '__contains__', '__delattr__', '__delitem__', '__dir__', '__doc__', '__eq__', '__format__', '__ge__', '__getattribute__', '__getitem__', '__gt__', '__hash__', '__init__', '__init_subclass__', '__iter__', '__le__', '__len__', '__lt__', '__ne__', '__new__', '__reduce__', '__reduce_ex__', '__repr__', '__reversed__', '__setattr__', '__setitem__', '__sizeof__', '__str__', '__subclasshook__', 'clear', 'copy', 'fromkeys', 'get', 'items', 'keys', 'pop', 'popitem', 'setdefault', 'update', 'values']\n"
     ]
    }
   ],
   "source": [
    "print(dir(dict))"
   ]
  },
  {
   "cell_type": "code",
   "execution_count": 10,
   "id": "b07ad610",
   "metadata": {},
   "outputs": [
    {
     "name": "stdout",
     "output_type": "stream",
     "text": [
      "Help on method_descriptor:\n",
      "\n",
      "pop(...)\n",
      "    D.pop(k[,d]) -> v, remove specified key and return the corresponding value.\n",
      "    If key is not found, d is returned if given, otherwise KeyError is raised\n",
      "\n"
     ]
    }
   ],
   "source": [
    "help(dict.pop)"
   ]
  },
  {
   "cell_type": "markdown",
   "id": "ddb18147",
   "metadata": {},
   "source": [
    "## copy"
   ]
  },
  {
   "cell_type": "code",
   "execution_count": 11,
   "id": "628aa29f",
   "metadata": {},
   "outputs": [
    {
     "name": "stdout",
     "output_type": "stream",
     "text": [
      "{1101: 'harsha', 1102: 'Abhilash', 1103: 'Bhoopal', 1104: 'Mohan', 1105: 'harsha'}\n"
     ]
    }
   ],
   "source": [
    "#copy\n",
    "por1={1101:'harsha', 1102:'Abhilash', 1103: 'Bhoopal', 1104:'Mohan',1105:'harsha'}\n",
    "por2=por1.copy()\n",
    "print(por2)"
   ]
  },
  {
   "cell_type": "code",
   "execution_count": 12,
   "id": "dacaab6e",
   "metadata": {},
   "outputs": [
    {
     "name": "stdout",
     "output_type": "stream",
     "text": [
      "{}\n"
     ]
    }
   ],
   "source": [
    "##clear\n",
    "por1={1101:'harsha', 1102:'Abhilash', 1103: 'Bhoopal', 1104:'Mohan',1105:'harsha'}\n",
    "por1.clear()\n",
    "print(por1)"
   ]
  },
  {
   "cell_type": "code",
   "execution_count": 13,
   "id": "01351d66",
   "metadata": {},
   "outputs": [
    {
     "name": "stdout",
     "output_type": "stream",
     "text": [
      "{'name': 'Dhruvika', 'subject': 'physics', 'adress': 'GLK 308b hvidovre'}\n"
     ]
    }
   ],
   "source": [
    "#delete\n",
    "xx={'name':'Dhruvika', 'age': '13', 'subject':'physics', 'adress':'GLK 308b hvidovre'}\n",
    "del(xx['age'])\n",
    "print(xx)"
   ]
  },
  {
   "cell_type": "code",
   "execution_count": 14,
   "id": "eb194fbe",
   "metadata": {},
   "outputs": [
    {
     "name": "stdout",
     "output_type": "stream",
     "text": [
      "{1101: 'harsha', 1102: 'Abhilash', 1103: 'Bhoopal', 1104: 'Mohan', 1105: 'harsha'}\n"
     ]
    }
   ],
   "source": [
    "##copy\n",
    "por1={1101:'harsha', 1102:'Abhilash', 1103: 'Bhoopal', 1104:'Mohan',1105:'harsha'}\n",
    "por2=por1.copy()\n",
    "print(por2)"
   ]
  },
  {
   "cell_type": "markdown",
   "id": "73d063c5",
   "metadata": {},
   "source": [
    "## clear"
   ]
  },
  {
   "cell_type": "code",
   "execution_count": 15,
   "id": "4b56c13f",
   "metadata": {},
   "outputs": [
    {
     "name": "stdout",
     "output_type": "stream",
     "text": [
      "{}\n"
     ]
    }
   ],
   "source": [
    "por1={1101:'harsha', 1102:'Abhilash', 1103: 'Bhoopal', 1104:'Mohan',1105:'harsha'}\n",
    "por1.clear()\n",
    "print(por1)"
   ]
  },
  {
   "cell_type": "code",
   "execution_count": null,
   "id": "2afb1ea2",
   "metadata": {},
   "outputs": [],
   "source": []
  },
  {
   "cell_type": "markdown",
   "id": "3e750753",
   "metadata": {},
   "source": [
    "## fromkeys"
   ]
  },
  {
   "cell_type": "code",
   "execution_count": null,
   "id": "c82af75b",
   "metadata": {},
   "outputs": [],
   "source": [
    "# we ue it where value is same but keys are different"
   ]
  },
  {
   "cell_type": "code",
   "execution_count": 16,
   "id": "530612c3",
   "metadata": {
    "scrolled": true
   },
   "outputs": [
    {
     "name": "stdout",
     "output_type": "stream",
     "text": [
      "{'raju': 98, 'ramya': 98, 'nainika': 98, 'lakshmi': 98}\n"
     ]
    }
   ],
   "source": [
    "rex ={}.fromkeys(['raju', 'ramya', 'nainika','lakshmi'], 98)\n",
    "print(rex)"
   ]
  },
  {
   "cell_type": "code",
   "execution_count": 17,
   "id": "6287026d",
   "metadata": {},
   "outputs": [
    {
     "name": "stdout",
     "output_type": "stream",
     "text": [
      "{'Maths': 60, 'Science': 60, 'Engineering': 60, 'Software': 60}\n"
     ]
    }
   ],
   "source": [
    "#another method fromkeys\n",
    "sub= {}.fromkeys(['Maths','Science','Engineering', 'Software'], 60) # keys are different but values ae same\n",
    "print (sub)"
   ]
  },
  {
   "cell_type": "code",
   "execution_count": 18,
   "id": "91296b3e",
   "metadata": {},
   "outputs": [
    {
     "name": "stdout",
     "output_type": "stream",
     "text": [
      "{'maths': 40, 'science': 40, 'engineering': 40, 'software': 40}\n"
     ]
    }
   ],
   "source": [
    "subjects_all={}.fromkeys(['maths','science','engineering','software'], 40)#keys are different but values ae same\n",
    "print(subjects_all)"
   ]
  },
  {
   "cell_type": "markdown",
   "id": "d1ab03ef",
   "metadata": {},
   "source": [
    "##get"
   ]
  },
  {
   "cell_type": "code",
   "execution_count": 19,
   "id": "29b9ea55",
   "metadata": {},
   "outputs": [
    {
     "name": "stdout",
     "output_type": "stream",
     "text": [
      "nainika\n",
      "13\n",
      "physics\n"
     ]
    },
    {
     "data": {
      "text/plain": [
       "'physics'"
      ]
     },
     "execution_count": 19,
     "metadata": {},
     "output_type": "execute_result"
    }
   ],
   "source": [
    "dvc={'name':'nainika', 'age': '13', 'subject':'physics', 'adress':'hvidovre'}\n",
    "print (dvc.get('name'))\n",
    "print (dvc.get('age')) \n",
    "print (dvc.get('subject'))\n",
    "## or\n",
    "print(dvc['subject'])"
   ]
  },
  {
   "cell_type": "code",
   "execution_count": 20,
   "id": "67f93c5a",
   "metadata": {
    "scrolled": true
   },
   "outputs": [
    {
     "name": "stdout",
     "output_type": "stream",
     "text": [
      "{1101: 'harsha', 1102: 'harsha'}\n"
     ]
    }
   ],
   "source": [
    "####  no duplicate key , if there the last one is  only shown.\n",
    "pot3={1101:'harsha', 1102:'Abhilash', 1102: 'Bhoopal', 1102:'Mohan',1102:'harsha'} # duplicate key with 1102\n",
    "print (pot3) #Key duplicate will not accept, but value can be duplicate"
   ]
  },
  {
   "cell_type": "code",
   "execution_count": 21,
   "id": "fec11eee",
   "metadata": {},
   "outputs": [
    {
     "name": "stdout",
     "output_type": "stream",
     "text": [
      "harsha\n",
      "harsha\n",
      "Mohan\n"
     ]
    },
    {
     "data": {
      "text/plain": [
       "'harsha'"
      ]
     },
     "execution_count": 21,
     "metadata": {},
     "output_type": "execute_result"
    }
   ],
   "source": [
    "pot13={1101:'harsha', 1102:'Abhilash', 1103: 'Bhoopal', 1104:'Mohan',1105:'harsha'} # duplicate key with 1102\n",
    "print (pot13.get(1101))\n",
    "print (pot13.get(1105)) \n",
    "print (pot13.get(1104))\n",
    "pot13[1101]"
   ]
  },
  {
   "cell_type": "markdown",
   "id": "affd3fd4",
   "metadata": {},
   "source": [
    "##items"
   ]
  },
  {
   "cell_type": "code",
   "execution_count": 22,
   "id": "aa5b2e18",
   "metadata": {},
   "outputs": [
    {
     "name": "stdout",
     "output_type": "stream",
     "text": [
      "3\n",
      "1113\n",
      "1111\n",
      "3336\n"
     ]
    },
    {
     "data": {
      "text/plain": [
       "'java'"
      ]
     },
     "execution_count": 22,
     "metadata": {},
     "output_type": "execute_result"
    }
   ],
   "source": [
    "#length\n",
    "dict11 ={1111:'python', 1112 : 'java', 1113 : 'data science'}\n",
    "print(len(dict11))\n",
    "print(max(dict11))\n",
    "print(min(dict11))\n",
    "print(sum(dict11))\n",
    "dict11[1112]"
   ]
  },
  {
   "cell_type": "code",
   "execution_count": null,
   "id": "3c917f9d",
   "metadata": {},
   "outputs": [],
   "source": [
    "##setdefault: access the value through key."
   ]
  },
  {
   "cell_type": "code",
   "execution_count": 23,
   "id": "8bd72391",
   "metadata": {},
   "outputs": [
    {
     "name": "stdout",
     "output_type": "stream",
     "text": [
      "13\n",
      "AB+ve\n",
      "None\n",
      "{'name': 'nainika', 'age': '13', 'subject': 'physics', 'adress': 'GLK 308b hvidovre', 'bloodgroup': 'AB+ve', 'surname': None}\n"
     ]
    }
   ],
   "source": [
    "rx={'name':'nainika', 'age': '13', 'subject':'physics', 'adress':'GLK 308b hvidovre'}\n",
    "print(rx.setdefault('age'))\n",
    "print(rx.setdefault('bloodgroup', 'AB+ve'))\n",
    "print(rx.setdefault('surname')) # if its not there it will show none\n",
    "print(rx)  "
   ]
  },
  {
   "cell_type": "code",
   "execution_count": null,
   "id": "9ee3b114",
   "metadata": {},
   "outputs": [],
   "source": []
  },
  {
   "cell_type": "markdown",
   "id": "40b70508",
   "metadata": {},
   "source": [
    "## keys"
   ]
  },
  {
   "cell_type": "code",
   "execution_count": 24,
   "id": "532a666b",
   "metadata": {},
   "outputs": [
    {
     "name": "stdout",
     "output_type": "stream",
     "text": [
      "dict_keys(['name', 'age', 'subject', 'adress'])\n"
     ]
    }
   ],
   "source": [
    "rx={'name':'nainika', 'age': '13', 'subject':'physics', 'adress':'GLK 308b hvidovre'}\n",
    "print(rx.keys())"
   ]
  },
  {
   "cell_type": "markdown",
   "id": "ef9bad37",
   "metadata": {},
   "source": [
    "#values"
   ]
  },
  {
   "cell_type": "code",
   "execution_count": 25,
   "id": "857f87da",
   "metadata": {
    "scrolled": true
   },
   "outputs": [
    {
     "name": "stdout",
     "output_type": "stream",
     "text": [
      "dict_values(['nainika', '13', 'physics', 'GLK 308b hvidovre'])\n"
     ]
    }
   ],
   "source": [
    "print(rx.values())"
   ]
  },
  {
   "cell_type": "code",
   "execution_count": 26,
   "id": "bf06ac99",
   "metadata": {},
   "outputs": [
    {
     "name": "stdout",
     "output_type": "stream",
     "text": [
      "dict_items([('name', 'nainika'), ('age', '13'), ('subject', 'physics'), ('adress', 'GLK 308b hvidovre')])\n"
     ]
    }
   ],
   "source": [
    "print(rx.items())"
   ]
  },
  {
   "cell_type": "markdown",
   "id": "e24aadd6",
   "metadata": {},
   "source": [
    "##pop"
   ]
  },
  {
   "cell_type": "code",
   "execution_count": 27,
   "id": "495d4424",
   "metadata": {},
   "outputs": [
    {
     "name": "stdout",
     "output_type": "stream",
     "text": [
      "13\n",
      "{'name': 'nainika', 'subject': 'physics', 'adress': 'GLK 308b hvidovre'}\n"
     ]
    }
   ],
   "source": [
    "rx={'name':'nainika', 'age': '13', 'subject':'physics', 'adress':'GLK 308b hvidovre'}\n",
    "print (rx.pop('age')) # it prints the pop value but removes that from dict\n",
    "print(rx)"
   ]
  },
  {
   "cell_type": "code",
   "execution_count": 28,
   "id": "278f0453",
   "metadata": {},
   "outputs": [
    {
     "name": "stdout",
     "output_type": "stream",
     "text": [
      "nainika\n",
      "{'age': '13', 'subject': 'physics', 'adress': 'GLK 308b hvidovre'}\n"
     ]
    }
   ],
   "source": [
    "kx={'name':'nainika', 'age': '13', 'subject':'physics', 'adress':'GLK 308b hvidovre'}\n",
    "print (kx.pop('name')) # it prints the pop value but removes that from dict\n",
    "print(kx)"
   ]
  },
  {
   "cell_type": "code",
   "execution_count": 29,
   "id": "70be340d",
   "metadata": {
    "scrolled": true
   },
   "outputs": [
    {
     "name": "stdout",
     "output_type": "stream",
     "text": [
      "physics\n",
      "{'name': 'nainika', 'age': '13', 'adress': 'hvidovre'}\n"
     ]
    }
   ],
   "source": [
    "ad={'name':'nainika', 'age': '13', 'subject':'physics', 'adress':'hvidovre'}\n",
    "print (ad.pop('subject')) # it prints the pop value but removes that from dict\n",
    "print(ad)"
   ]
  },
  {
   "cell_type": "markdown",
   "id": "4fe8873c",
   "metadata": {},
   "source": [
    "##popitem"
   ]
  },
  {
   "cell_type": "code",
   "execution_count": 30,
   "id": "4e7083eb",
   "metadata": {
    "scrolled": true
   },
   "outputs": [
    {
     "name": "stdout",
     "output_type": "stream",
     "text": [
      "('adress', 'hvidovre')\n",
      "{'name': 'nainika', 'age': '13'}\n"
     ]
    }
   ],
   "source": [
    "print (ad.popitem()) # it randomly remove any of the key value pair\n",
    "print (ad)"
   ]
  },
  {
   "cell_type": "code",
   "execution_count": 31,
   "id": "96c4aa84",
   "metadata": {},
   "outputs": [
    {
     "name": "stdout",
     "output_type": "stream",
     "text": [
      "('adress', 'GLK 308b hvidovre')\n",
      "{'name': 'Dhruvika', 'age': '13', 'subject': 'physics'}\n"
     ]
    }
   ],
   "source": [
    "knm={'name':'Dhruvika', 'age': '13', 'subject':'physics', 'adress':'GLK 308b hvidovre'}\n",
    "print(knm.popitem())\n",
    "print(knm)"
   ]
  },
  {
   "cell_type": "code",
   "execution_count": 32,
   "id": "ea58334a",
   "metadata": {},
   "outputs": [
    {
     "name": "stdout",
     "output_type": "stream",
     "text": [
      "{'age': '13', 'subject': 'physics', 'adress': 'GLK 308b hvidovre'}\n"
     ]
    }
   ],
   "source": [
    "#delete\n",
    "kp={'name':'Dhruvika', 'age': '13', 'subject':'physics', 'adress':'GLK 308b hvidovre'}\n",
    "del(kp['name'])\n",
    "print(kp)"
   ]
  },
  {
   "cell_type": "markdown",
   "id": "1222c207",
   "metadata": {},
   "source": [
    "## set default"
   ]
  },
  {
   "cell_type": "code",
   "execution_count": 33,
   "id": "140e3dbe",
   "metadata": {},
   "outputs": [
    {
     "name": "stdout",
     "output_type": "stream",
     "text": [
      "Help on method_descriptor:\n",
      "\n",
      "update(...)\n",
      "    D.update([E, ]**F) -> None.  Update D from dict/iterable E and F.\n",
      "    If E is present and has a .keys() method, then does:  for k in E: D[k] = E[k]\n",
      "    If E is present and lacks a .keys() method, then does:  for k, v in E: D[k] = v\n",
      "    In either case, this is followed by: for k in F:  D[k] = F[k]\n",
      "\n"
     ]
    }
   ],
   "source": [
    "help(dict.update)"
   ]
  },
  {
   "cell_type": "markdown",
   "id": "1d8fb0f5",
   "metadata": {},
   "source": [
    "### update"
   ]
  },
  {
   "cell_type": "code",
   "execution_count": 34,
   "id": "b224dbbc",
   "metadata": {},
   "outputs": [
    {
     "name": "stdout",
     "output_type": "stream",
     "text": [
      "{'name': 'dhruvika', 'age': 14, 'location': 'copenhagen', 'school': 'langhøj', 'blood group': 'ab+ve'}\n"
     ]
    }
   ],
   "source": [
    "ab = {'name': 'dhruvika', 'age':14, 'location': 'copenhagen'}\n",
    "ef = {'school': 'langhøj', 'blood group':'ab+ve'}\n",
    "ab.update(ef)\n",
    "print(ab)"
   ]
  },
  {
   "cell_type": "markdown",
   "id": "a983462b",
   "metadata": {},
   "source": [
    "##values"
   ]
  },
  {
   "cell_type": "code",
   "execution_count": 35,
   "id": "df4a50c9",
   "metadata": {},
   "outputs": [
    {
     "name": "stdout",
     "output_type": "stream",
     "text": [
      "dict_values(['nainika', '13', 'physics', 'hvidovre'])\n",
      "dict_keys(['name', 'age', 'subject', 'adress'])\n",
      "dict_items([('name', 'nainika'), ('age', '13'), ('subject', 'physics'), ('adress', 'hvidovre')])\n"
     ]
    }
   ],
   "source": [
    "dw={'name':'nainika', 'age': '13', 'subject':'physics', 'adress':'hvidovre'}\n",
    "print(dw.values())\n",
    "print(dw.keys())\n",
    "print(dw.items())"
   ]
  },
  {
   "cell_type": "code",
   "execution_count": 37,
   "id": "ebcf60a8",
   "metadata": {},
   "outputs": [
    {
     "name": "stdout",
     "output_type": "stream",
     "text": [
      "{'name': 'nainika', 'age': '13', 'subject': 'physics', 'adress': 'hvidovre', 'school': 'langhøj school'}\n"
     ]
    }
   ],
   "source": [
    "wf ={'school':'langhøj school'}\n",
    "dw.update(wf)\n",
    "print(dw)"
   ]
  },
  {
   "cell_type": "code",
   "execution_count": null,
   "id": "d6fade2d",
   "metadata": {},
   "outputs": [],
   "source": []
  },
  {
   "cell_type": "code",
   "execution_count": 38,
   "id": "5ebe4a7e",
   "metadata": {},
   "outputs": [
    {
     "name": "stdout",
     "output_type": "stream",
     "text": [
      "82\n",
      "92\n",
      "33\n",
      "95\n"
     ]
    }
   ],
   "source": [
    "marks={'balu': 82, 'ram':92, 'krishna':33, 'ratna':95, 'harsha':17}\n",
    "for i in marks.values():\n",
    "    if i>30:\n",
    "        print (i)"
   ]
  },
  {
   "cell_type": "code",
   "execution_count": 39,
   "id": "41971b06",
   "metadata": {},
   "outputs": [
    {
     "name": "stdout",
     "output_type": "stream",
     "text": [
      "balu\n",
      "ram\n",
      "krishna\n",
      "ratna\n",
      "harsha\n"
     ]
    }
   ],
   "source": [
    "marks={'balu': 82, 'ram':92, 'krishna':33, 'ratna':95, 'harsha':17}\n",
    "for i in marks.keys():\n",
    "          print (i)"
   ]
  },
  {
   "cell_type": "code",
   "execution_count": 40,
   "id": "efdafca9",
   "metadata": {},
   "outputs": [
    {
     "name": "stdout",
     "output_type": "stream",
     "text": [
      "82\n",
      "92\n",
      "33\n",
      "95\n",
      "17\n"
     ]
    }
   ],
   "source": [
    "marks={'balu': 82, 'ram':92, 'krishna':33, 'ratna':95, 'harsha':17}\n",
    "for i in marks.values():\n",
    "          print (i)"
   ]
  },
  {
   "cell_type": "code",
   "execution_count": 41,
   "id": "f51cfd98",
   "metadata": {},
   "outputs": [
    {
     "name": "stdout",
     "output_type": "stream",
     "text": [
      "('balu', 82)\n",
      "('ram', 92)\n",
      "('krishna', 33)\n",
      "('ratna', 95)\n",
      "('harsha', 17)\n"
     ]
    }
   ],
   "source": [
    "marks={'balu': 82, 'ram':92, 'krishna':33, 'ratna':95, 'harsha':17}\n",
    "for i in marks.items():\n",
    "          print (i)"
   ]
  },
  {
   "cell_type": "code",
   "execution_count": 42,
   "id": "eeb67fa3",
   "metadata": {},
   "outputs": [
    {
     "name": "stdout",
     "output_type": "stream",
     "text": [
      "{'balu': 82, 'ram': 92, 'krishna': 33, 'ratna': 95, 'harsha': 17, 'name': 'nainika', 'age': '13', 'subject': 'physics', 'adress': 'hvidovre', 1101: 'harsha', 1102: 'Abhilash', 1103: 'Bhoopal', 1104: 'Mohan', 1105: 'harsha'}\n"
     ]
    }
   ],
   "source": [
    "### merging dictionaries\n",
    "dict15 ={'balu': 82, 'ram':92, 'krishna':33, 'ratna':95, 'harsha':17}\n",
    "dict16 = {'name':'nainika', 'age': '13', 'subject':'physics', 'adress':'hvidovre'}\n",
    "dict17 ={1101:'harsha', 1102:'Abhilash', 1103: 'Bhoopal', 1104:'Mohan',1105:'harsha'}\n",
    "final_dict= {**dict15,**dict16,**dict17}\n",
    "print(final_dict)"
   ]
  },
  {
   "cell_type": "code",
   "execution_count": 43,
   "id": "d0062344",
   "metadata": {},
   "outputs": [
    {
     "name": "stdout",
     "output_type": "stream",
     "text": [
      "{'balu': 82, 'ram': 92, 'krishna': 33, 'ratna': 95, 'harsha': 17, 'name': 'nainika', 'age': '13', 'subject': 'physics', 'adress': 'hvidovre', 1101: 'harsha', 1102: 'Abhilash', 1103: 'Bhoopal', 1104: 'Mohan', 1105: 'harsha'}\n"
     ]
    }
   ],
   "source": [
    "dict15.update(dict16)\n",
    "dict15.update(dict17)\n",
    "print(dict15)"
   ]
  },
  {
   "cell_type": "code",
   "execution_count": null,
   "id": "e9ecf79b",
   "metadata": {},
   "outputs": [],
   "source": []
  }
 ],
 "metadata": {
  "kernelspec": {
   "display_name": "Python 3",
   "language": "python",
   "name": "python3"
  },
  "language_info": {
   "codemirror_mode": {
    "name": "ipython",
    "version": 3
   },
   "file_extension": ".py",
   "mimetype": "text/x-python",
   "name": "python",
   "nbconvert_exporter": "python",
   "pygments_lexer": "ipython3",
   "version": "3.8.8"
  }
 },
 "nbformat": 4,
 "nbformat_minor": 5
}
